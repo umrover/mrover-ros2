{
 "cells": [
  {
   "metadata": {
    "ExecuteTime": {
     "end_time": "2024-11-29T01:59:56.573148Z",
     "start_time": "2024-11-29T01:59:54.374019Z"
    }
   },
   "cell_type": "code",
   "source": [
    "import glob\n",
    "import pickle\n",
    "\n",
    "from keyrover.datasets import calculate_dataset_norm_params\n",
    "from keyrover.images import KeyboardImage\n",
    "from keyrover import *"
   ],
   "id": "8822d18d211b78af",
   "outputs": [],
   "execution_count": 1
  },
  {
   "metadata": {
    "ExecuteTime": {
     "end_time": "2024-11-29T02:00:41.339837Z",
     "start_time": "2024-11-29T01:59:56.574337Z"
    }
   },
   "cell_type": "code",
   "source": [
    "norm_parameters = {}\n",
    "\n",
    "for folder in os.listdir(\".\"):\n",
    "    if not os.path.isdir(folder):\n",
    "        continue\n",
    "\n",
    "    image_paths = glob.glob(f\"{folder}/*\")\n",
    "    dataset = tuple(tqdm(map(KeyboardImage, image_paths), total=len(image_paths)))\n",
    "    \n",
    "    mean, std = calculate_dataset_norm_params(dataset)\n",
    "    norm_parameters[folder] = {\"mean\": mean, \"std\": std}\n",
    "    \n",
    "norm_parameters"
   ],
   "id": "2c0bd45025ee8d56",
   "outputs": [
    {
     "data": {
      "text/plain": [
       "0it [00:00, ?it/s]"
      ],
      "application/vnd.jupyter.widget-view+json": {
       "version_major": 2,
       "version_minor": 0,
       "model_id": "419bd2de55e146fb9c90e59393e08fd7"
      }
     },
     "metadata": {},
     "output_type": "display_data"
    },
    {
     "data": {
      "text/plain": [
       "0it [00:00, ?it/s]"
      ],
      "application/vnd.jupyter.widget-view+json": {
       "version_major": 2,
       "version_minor": 0,
       "model_id": "25a0fa777fe843ecbc34b1cb51fe3f3e"
      }
     },
     "metadata": {},
     "output_type": "display_data"
    },
    {
     "data": {
      "text/plain": [
       "{'v4-nodistort': {'mean': array([     100.35,      100.91,      95.439], dtype=float32),\n",
       "  'std': array([     78.347,      76.305,      77.182], dtype=float32)},\n",
       " 'v4': {'mean': array([     95.405,      95.501,      90.581], dtype=float32),\n",
       "  'std': array([     76.746,      74.785,      75.474], dtype=float32)}}"
      ]
     },
     "execution_count": 2,
     "metadata": {},
     "output_type": "execute_result"
    }
   ],
   "execution_count": 2
  },
  {
   "metadata": {
    "ExecuteTime": {
     "end_time": "2024-11-29T02:00:47.838378Z",
     "start_time": "2024-11-29T02:00:47.834086Z"
    }
   },
   "cell_type": "code",
   "source": [
    "with open(\"normalization.bin\", \"wb\") as f:\n",
    "    pickle.dump(norm_parameters, f)"
   ],
   "id": "b1e9da2f3788ca16",
   "outputs": [],
   "execution_count": 3
  }
 ],
 "metadata": {
  "kernelspec": {
   "display_name": "Python 3",
   "language": "python",
   "name": "python3"
  },
  "language_info": {
   "codemirror_mode": {
    "name": "ipython",
    "version": 2
   },
   "file_extension": ".py",
   "mimetype": "text/x-python",
   "name": "python",
   "nbconvert_exporter": "python",
   "pygments_lexer": "ipython2",
   "version": "2.7.6"
  }
 },
 "nbformat": 4,
 "nbformat_minor": 5
}
