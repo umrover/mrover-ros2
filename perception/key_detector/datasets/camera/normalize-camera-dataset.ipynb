{
 "cells": [
  {
   "cell_type": "code",
   "id": "initial_id",
   "metadata": {
    "collapsed": true,
    "ExecuteTime": {
     "end_time": "2024-11-25T04:09:20.408539Z",
     "start_time": "2024-11-25T04:09:20.319205Z"
    }
   },
   "source": [
    "import pickle\n",
    "import numpy as np\n",
    "\n",
    "with open(\"camera_data.bin\", \"rb\") as f:\n",
    "    camera_data = pickle.load(f)"
   ],
   "outputs": [],
   "execution_count": 1
  },
  {
   "metadata": {
    "ExecuteTime": {
     "end_time": "2024-11-25T04:09:20.445142Z",
     "start_time": "2024-11-25T04:09:20.433228Z"
    }
   },
   "cell_type": "code",
   "source": [
    "n = 0\n",
    "transforms = []\n",
    "\n",
    "for location, rotation in zip(camera_data[\"location\"], camera_data[\"rotation\"]):\n",
    "    transforms.append([*rotation, *location])\n",
    "    n += 1\n",
    "\n",
    "transforms = np.array(transforms)\n",
    "mean = transforms.mean(axis=0)\n",
    "std = transforms.std(axis=0)"
   ],
   "id": "c980ff862a543280",
   "outputs": [],
   "execution_count": 2
  },
  {
   "metadata": {
    "ExecuteTime": {
     "end_time": "2024-11-25T04:09:20.464546Z",
     "start_time": "2024-11-25T04:09:20.447274Z"
    }
   },
   "cell_type": "code",
   "source": [
    "transforms = []\n",
    "\n",
    "for location, rotation in zip(camera_data[\"location\"], camera_data[\"rotation\"]):\n",
    "    transform = np.array([*rotation, *location])\n",
    "    transform -= mean\n",
    "    transform /= std\n",
    "    transforms.append(transform)\n",
    "\n",
    "transforms = np.array(transforms)\n",
    "\n",
    "with open(\"normalized_camera_data.bin\", \"wb\") as f:\n",
    "    pickle.dump(transforms, f)"
   ],
   "id": "98ff9fb1ddf84fc2",
   "outputs": [],
   "execution_count": 3
  }
 ],
 "metadata": {
  "kernelspec": {
   "display_name": "Python 3",
   "language": "python",
   "name": "python3"
  },
  "language_info": {
   "codemirror_mode": {
    "name": "ipython",
    "version": 2
   },
   "file_extension": ".py",
   "mimetype": "text/x-python",
   "name": "python",
   "nbconvert_exporter": "python",
   "pygments_lexer": "ipython2",
   "version": "2.7.6"
  }
 },
 "nbformat": 4,
 "nbformat_minor": 5
}
