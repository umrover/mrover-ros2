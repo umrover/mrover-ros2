{
 "cells": [
  {
   "cell_type": "code",
   "id": "initial_id",
   "metadata": {
    "collapsed": true,
    "ExecuteTime": {
     "end_time": "2024-11-29T20:16:51.276427Z",
     "start_time": "2024-11-29T20:16:49.108017Z"
    }
   },
   "source": [
    "import pickle\n",
    "\n",
    "from keyrover import *\n",
    "from keyrover.vision import device\n",
    "from keyrover.math.bilinear import *"
   ],
   "outputs": [],
   "execution_count": 1
  },
  {
   "metadata": {
    "ExecuteTime": {
     "end_time": "2024-11-29T20:19:15.740484Z",
     "start_time": "2024-11-29T20:19:15.649908Z"
    }
   },
   "cell_type": "code",
   "source": [
    "SIZE = (256, 256)\n",
    "\n",
    "with open(\"../camera/camera_data.bin\", \"rb\") as f:\n",
    "    camera_data = pickle.load(f)"
   ],
   "id": "dbf2def4c5410fce",
   "outputs": [],
   "execution_count": 9
  },
  {
   "metadata": {
    "ExecuteTime": {
     "end_time": "2024-11-29T20:19:15.942779Z",
     "start_time": "2024-11-29T20:19:15.932140Z"
    }
   },
   "cell_type": "code",
   "source": [
    "transform = InverseBilinear(1, width=640, height=480, device=device,\n",
    "                            p1=KeyboardBottomLeft, p2=KeyboardBottomRight, p3=KeyboardTopRight, p4=KeyboardTopLeft)"
   ],
   "id": "97aba5fe3b6de4b2",
   "outputs": [],
   "execution_count": 10
  },
  {
   "metadata": {
    "ExecuteTime": {
     "end_time": "2024-11-29T20:19:16.906875Z",
     "start_time": "2024-11-29T20:19:16.821387Z"
    }
   },
   "cell_type": "code",
   "source": [
    "i = 0\n",
    "\n",
    "corners = transform.project_corners(*camera_data[\"rotation\"][i], camera_data[\"location\"][i])\n",
    "    \n",
    "a, b, c, d = map(lambda t: t.cpu(), corners)\n",
    "plt.scatter(*a)\n",
    "plt.scatter(*b)\n",
    "plt.scatter(*c)\n",
    "plt.scatter(*d)\n",
    "\n",
    "quad = np.array([a, b, c, d, a]).T[0]\n",
    "plt.plot(*quad, 'r-')\n",
    "plt.xlim(0, 640)\n",
    "plt.ylim(480, 0)"
   ],
   "id": "b8042fe6017fd69",
   "outputs": [
    {
     "data": {
      "text/plain": [
       "(480.0, 0.0)"
      ]
     },
     "execution_count": 11,
     "metadata": {},
     "output_type": "execute_result"
    },
    {
     "data": {
      "text/plain": [
       "<Figure size 640x480 with 1 Axes>"
      ],
      "image/png": "[encoded data removed]"
     },
     "metadata": {},
     "output_type": "display_data"
    }
   ],
   "execution_count": 11
  },
  {
   "metadata": {
    "ExecuteTime": {
     "end_time": "2024-11-29T20:23:14.177307Z",
     "start_time": "2024-11-29T20:23:14.134982Z"
    }
   },
   "cell_type": "code",
   "source": [
    "locations = np.array(camera_data[\"location\"])\n",
    "rotations = np.array(camera_data[\"rotation\"])\n",
    "\n",
    "transform = InverseBilinear(len(rotations), width=640, height=480, device=device,\n",
    "                            p1=KeyboardBottomLeft, p2=KeyboardBottomRight, p3=KeyboardTopRight, p4=KeyboardTopLeft)\n",
    "\n",
    "corners = transform.project_corners(*rotations.T, locations)\n",
    "corners = np.array(tuple(map(lambda t: t.cpu().numpy(), corners)))\n",
    "corners = np.vstack(corners).T\n",
    "\n",
    "mean = corners.mean(axis=0, keepdims=True)\n",
    "std = corners.std(axis=0, keepdims=True)\n",
    "\n",
    "corners = (corners - mean) / std\n",
    "corners"
   ],
   "id": "7860886bff488a97",
   "outputs": [
    {
     "data": {
      "text/plain": [
       "array([[ 1.3669528 ,  0.949996  , -0.8362211 , ..., -0.39182132,\n",
       "         0.5835733 ,  1.7255849 ],\n",
       "       [-0.8514375 , -0.5603866 , -0.5522717 , ..., -0.05313418,\n",
       "        -0.5931126 , -0.657822  ],\n",
       "       [ 1.2331941 ,  0.8547654 , -0.648942  , ..., -1.1288202 ,\n",
       "         0.16909283,  1.4983519 ],\n",
       "       ...,\n",
       "       [-0.5921286 , -0.9557646 ,  0.20342731, ...,  0.76514775,\n",
       "         0.06436521, -1.1506649 ],\n",
       "       [ 2.0389931 , -1.2158941 , -1.2746217 , ...,  0.9392376 ,\n",
       "         2.3852952 , -0.13231356],\n",
       "       [ 0.5460479 ,  1.0198425 , -0.12842076, ..., -0.58120584,\n",
       "        -0.20502478,  1.1710469 ]], dtype=float32)"
      ]
     },
     "execution_count": 27,
     "metadata": {},
     "output_type": "execute_result"
    }
   ],
   "execution_count": 27
  },
  {
   "metadata": {
    "ExecuteTime": {
     "end_time": "2024-11-29T20:23:15.555640Z",
     "start_time": "2024-11-29T20:23:15.550633Z"
    }
   },
   "cell_type": "code",
   "source": "mean, std",
   "id": "e34e7409963d11f2",
   "outputs": [
    {
     "data": {
      "text/plain": [
       "(array([[121.72794, 304.1805 , 521.90515, 321.1944 , 518.2518 , 182.48584,\n",
       "         135.06981, 166.04904]], dtype=float32),\n",
       " array([[295.45062, 322.00687, 291.2603 , 333.85397, 291.20776, 329.91974,\n",
       "         298.2404 , 317.72784]], dtype=float32))"
      ]
     },
     "execution_count": 28,
     "metadata": {},
     "output_type": "execute_result"
    }
   ],
   "execution_count": 28
  },
  {
   "metadata": {
    "ExecuteTime": {
     "end_time": "2024-11-29T20:23:17.545543Z",
     "start_time": "2024-11-29T20:23:17.541105Z"
    }
   },
   "cell_type": "code",
   "source": [
    "with open(\"corners.pkl\", \"wb\") as f:\n",
    "    pickle.dump(corners, f)"
   ],
   "id": "932576006572eac1",
   "outputs": [],
   "execution_count": 29
  }
 ],
 "metadata": {
  "kernelspec": {
   "display_name": "Python 3",
   "language": "python",
   "name": "python3"
  },
  "language_info": {
   "codemirror_mode": {
    "name": "ipython",
    "version": 2
   },
   "file_extension": ".py",
   "mimetype": "text/x-python",
   "name": "python",
   "nbconvert_exporter": "python",
   "pygments_lexer": "ipython2",
   "version": "2.7.6"
  }
 },
 "nbformat": 4,
 "nbformat_minor": 5
}
